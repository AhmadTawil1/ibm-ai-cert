{
 "cells": [
  {
   "cell_type": "markdown",
   "id": "6c49ee15-c46b-4a61-99b1-6dc0473969cf",
   "metadata": {},
   "source": [
    "# 🧠 Machine Learning Paradigms & Techniques\n",
    "A beginner-friendly guide to the key learning types and techniques used in machine learning.\n"
   ]
  },
  {
   "cell_type": "markdown",
   "id": "f854e39d-f136-4a75-91e6-cec75012d4eb",
   "metadata": {},
   "source": [
    "## 📘 What is Machine Learning?\n",
    "\n",
    "Machine Learning (ML) is a field of artificial intelligence that enables computers to learn from data and improve their performance without being explicitly programmed.\n",
    "\n",
    "Examples:\n",
    "- Predicting house prices\n",
    "- Classifying emails as spam or not\n",
    "- Detecting fraudulent credit card transactions\n"
   ]
  },
  {
   "cell_type": "markdown",
   "id": "3be20d71-5641-4661-978c-5186030fe2c3",
   "metadata": {},
   "source": [
    "## 🔁 Machine Learning Paradigms\n",
    "\n",
    "### 1. Supervised Learning\n",
    "- Trains on labeled data.\n",
    "- Examples: Spam detection, sentiment analysis.\n",
    "\n",
    "### 2. Unsupervised Learning\n",
    "- Finds hidden patterns in unlabeled data.\n",
    "- Example: Customer segmentation.\n",
    "\n",
    "### 3. Semi-Supervised Learning\n",
    "- Mix of labeled + unlabeled data.\n",
    "- Example: Classifying social media posts with limited annotations.\n",
    "\n",
    "### 4. Reinforcement Learning\n",
    "- Learns through feedback (rewards/punishments).\n",
    "- Example: AI playing a video game.\n"
   ]
  },
  {
   "cell_type": "markdown",
   "id": "2a3f61c7-cdfe-450e-bccc-43ea09506195",
   "metadata": {},
   "source": [
    "## 🔧 Machine Learning Techniques\n",
    "\n",
    "### Classification\n",
    "- Predicts a category or class (e.g., dog vs cat).\n",
    "- Algorithms: Logistic Regression, KNN, Decision Trees.\n",
    "\n",
    "### Regression\n",
    "- Predicts continuous values (e.g., price, temperature).\n",
    "- Algorithm: Linear Regression.\n",
    "\n",
    "### Clustering\n",
    "- Groups similar data (e.g., customer segments).\n",
    "- Algorithm: K-Means.\n",
    "\n",
    "### Association\n",
    "- Finds rules (e.g., customers who buy X also buy Y).\n",
    "- Algorithm: Apriori.\n",
    "\n",
    "### Anomaly Detection\n",
    "- Detects outliers or rare cases (e.g., fraud detection).\n",
    "\n",
    "### Sequence Mining\n",
    "- Predicts next event (e.g., next web page visited).\n",
    "\n",
    "### Dimensionality Reduction\n",
    "- Reduces feature count (e.g., PCA).\n",
    "\n",
    "### Recommendation Systems\n",
    "- Suggests items (e.g., Netflix movie suggestions).\n"
   ]
  },
  {
   "cell_type": "markdown",
   "id": "594a3b71-c6bf-4ba1-a8ea-18c9ef137ca0",
   "metadata": {},
   "source": [
    "## 📊 Summary\n",
    "\n",
    "| Paradigm            | Description                              | Example                  |\n",
    "|---------------------|------------------------------------------|--------------------------|\n",
    "| Supervised          | Learns from labeled data                 | Spam detection           |\n",
    "| Unsupervised        | Learns from unlabeled data               | Customer segmentation    |\n",
    "| Semi-Supervised     | Combines labeled and unlabeled data      | Web page classification  |\n",
    "| Reinforcement       | Learns from rewards and punishments      | Game-playing AI          |\n"
   ]
  },
  {
   "cell_type": "code",
   "execution_count": null,
   "id": "a3e6333e-c2d0-4936-a380-22dc036f927f",
   "metadata": {},
   "outputs": [],
   "source": []
  }
 ],
 "metadata": {
  "kernelspec": {
   "display_name": "Python 3 (ipykernel)",
   "language": "python",
   "name": "python3"
  },
  "language_info": {
   "codemirror_mode": {
    "name": "ipython",
    "version": 3
   },
   "file_extension": ".py",
   "mimetype": "text/x-python",
   "name": "python",
   "nbconvert_exporter": "python",
   "pygments_lexer": "ipython3",
   "version": "3.12.4"
  }
 },
 "nbformat": 4,
 "nbformat_minor": 5
}
